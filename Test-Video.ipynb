{
 "cells": [
  {
   "cell_type": "code",
   "execution_count": null,
   "source": [
    "import Evaluasi\r\n",
    "import numpy as np\r\n",
    "import matplotlib.pyplot as plt \r\n",
    "import h5py\r\n",
    "import cv2\r\n",
    "import pickle\r\n",
    "import tensorflow as tf\r\n",
    "from tensorflow.keras.models import load_model\r\n",
    "\r\n",
    "loss = []\r\n",
    "val_loss = []\r\n",
    "with open('Result/History_Train.pkl','rb') as f:\r\n",
    "    log = pickle.load(f)\r\n",
    "    for i in range(len(log)):\r\n",
    "        loss.append(np.amin(log[i].get('loss')))\r\n",
    "        val_loss.append(np.amin(log[i].get('val_loss')))\r\n",
    "\r\n",
    "indeks = np.where(val_loss == np.amin(val_loss))[0]\r\n",
    "predModel = load_model('Result/Fold'+str(indeks[0]+1)+'.hdf5')"
   ],
   "outputs": [],
   "metadata": {}
  },
  {
   "cell_type": "code",
   "execution_count": null,
   "source": [
    "def preprocessing(ori):\r\n",
    "    h,w,c = ori.shape\r\n",
    "    crop_img = ori[120:120+h, 960:960+w]\r\n",
    "    res = cv2.resize(crop_img,dsize=(320,320),interpolation=cv2.INTER_CUBIC)\r\n",
    "    gray = cv2.cvtColor(res,cv2.COLOR_BGR2GRAY)\r\n",
    "    return crop_img,gray\r\n",
    "\r\n",
    "cap = cv2.VideoCapture('Lokasi video')\r\n",
    "rasio = (960/320)\r\n",
    "\r\n",
    "if (cap.isOpened()==False):\r\n",
    "    print(\"Error\")\r\n",
    "\r\n",
    "while(cap.isOpened()):\r\n",
    "    ret,frame = cap.read()\r\n",
    "    if ret == True:\r\n",
    "        show,prep = preprocessing(frame)\r\n",
    "        heatmapPrediction = predModel.predict(np.expand_dims(prep,axis=[0,-1]))\r\n",
    "        \r\n",
    "        mean = np.mean([heatmapPrediction[0,:,:,i].max() for i in range(heatmapPrediction.shape[-1])])\r\n",
    "        print(mean)\r\n",
    "        \r\n",
    "        keypointPred = Evaluasi.KeypointPrediction(heatmapPrediction[0])\r\n",
    "        if len(keypointPred)>0:\r\n",
    "            keypointPred = keypointPred*rasio\r\n",
    "            # print(keypointPred)\r\n",
    "            color = (0, 255, 0)\r\n",
    "            cv2.imshow('Heatmap',np.sum(np.squeeze(heatmapPrediction,axis=0),axis=-1))\r\n",
    "\r\n",
    "            if mean>0.3:\r\n",
    "                for j in range(keypointPred.shape[0]):\r\n",
    "                    cv2.polylines(show,[np.array([keypointPred[j,k,l,::-1]for l in range(keypointPred.shape[2])for k in range(keypointPred.shape[1])],np.int32)], True, color, 2)\r\n",
    "\r\n",
    "                    # box = keypointPred[j,0,:,:]\r\n",
    "                    # start = (int(box[0,1]),int(box[0,0]))\r\n",
    "                    # end = (int(box[1,1]),int(box[1,0]))\r\n",
    "                    # cv2.rectangle(show,start,end,color,3)\r\n",
    "\r\n",
    "            cv2.imshow('Frame',show)\r\n",
    "\r\n",
    "            key = cv2.waitKey(1)\r\n",
    "            if key == ord('q'):\r\n",
    "                break\r\n",
    "            if key == ord('p'):\r\n",
    "                cv2.waitKey(-1)\r\n",
    "    else:\r\n",
    "        break\r\n",
    "\r\n",
    "cap.release()\r\n",
    "cv2.destroyAllWindows()"
   ],
   "outputs": [],
   "metadata": {}
  }
 ],
 "metadata": {
  "orig_nbformat": 4,
  "language_info": {
   "name": "python",
   "version": "3.7.7",
   "mimetype": "text/x-python",
   "codemirror_mode": {
    "name": "ipython",
    "version": 3
   },
   "pygments_lexer": "ipython3",
   "nbconvert_exporter": "python",
   "file_extension": ".py"
  },
  "kernelspec": {
   "name": "python3",
   "display_name": "Python 3.7.7 64-bit ('tf-gpu': conda)"
  },
  "interpreter": {
   "hash": "52d3bd6574efcdd91ca3b9875a73a5a06b8ae39dd2eb37766e9e13c864893533"
  }
 },
 "nbformat": 4,
 "nbformat_minor": 2
}